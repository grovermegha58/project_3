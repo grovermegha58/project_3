{
 "cells": [
  {
   "cell_type": "code",
   "execution_count": 1,
   "id": "b3d78bd0",
   "metadata": {},
   "outputs": [
    {
     "name": "stdout",
     "output_type": "stream",
     "text": [
      "Python:Exercises::PHP:exercises:\n"
     ]
    }
   ],
   "source": [
    "#ANS:)1-\n",
    "\n",
    "#Python program to replace all occurrences of a space, comma, or dot with a colon\n",
    "\n",
    "import re\n",
    "\n",
    "\n",
    "sample_text = 'Python Exercises, PHP exercises.'\n",
    "result = re.sub(r'[ ,.]', ':',  sample_text)\n",
    "\n",
    "\n",
    "print(result)\n",
    "\n"
   ]
  },
  {
   "cell_type": "code",
   "execution_count": 2,
   "id": "e5ad43e4",
   "metadata": {},
   "outputs": [
    {
     "name": "stdout",
     "output_type": "stream",
     "text": [
      "         SUMMARY\n",
      "0    hello world\n",
      "1     XXXXX test\n",
      "2  four five six\n"
     ]
    }
   ],
   "source": [
    "#ANS:)2-\n",
    "\n",
    "import pandas as pd\n",
    "\n",
    "df = pd.DataFrame({'SUMMARY': ['hello, world!', 'XXXXX test', '123four, five:; six...']})\n",
    "df['SUMMARY'] = df['SUMMARY'].apply(lambda x: re.sub(r'[^a-zA-Z\\s]', '', x))\n",
    "                        \n",
    "print(df)\n"
   ]
  },
  {
   "cell_type": "code",
   "execution_count": 3,
   "id": "5e745417",
   "metadata": {},
   "outputs": [
    {
     "name": "stdout",
     "output_type": "stream",
     "text": [
      "['Data', 'science', 'interdisciplinary', 'field', 'that', 'uses', 'scientific', 'methods', 'algorithms', 'processes', 'systems', 'extract', 'knowledge', 'insights', 'from', 'structured', 'unstructured', 'data']\n"
     ]
    }
   ],
   "source": [
    "#ANS:) 3\n",
    "#for example:-\n",
    "\n",
    "import re\n",
    "\n",
    "str1 = \"Data science is an interdisciplinary field that uses scientific methods, algorithms, processes, and systems to extract knowledge and insights from structured and unstructured data\"\n",
    "\n",
    "min_length = 4\n",
    "string_pattern = r'\\b\\w{%d,}\\b' % min_length\n",
    "regex_pattern = re.compile(string_pattern)\n",
    "\n",
    "# Use findall to extract all matching words\n",
    "result = regex_pattern.findall(str1)\n",
    "\n",
    "print(result)\n"
   ]
  },
  {
   "cell_type": "code",
   "execution_count": 4,
   "id": "2f968267",
   "metadata": {},
   "outputs": [
    {
     "name": "stdout",
     "output_type": "stream",
     "text": [
      "['Data', 'field', 'that', 'uses', 'and', 'and', 'from', 'and', 'data']\n"
     ]
    }
   ],
   "source": [
    "#ANS:)4\n",
    "\n",
    "import re\n",
    "\n",
    "str1 = \"Data science is an interdisciplinary field that uses scientific methods, algorithms, processes, and systems to extract knowledge and insights from structured and unstructured data\"\n",
    "\n",
    "# Define the minimum and maximum word lengths\n",
    "min_length = 3\n",
    "max_length = 5\n",
    "\n",
    "# Construct a regular expression pattern for words with lengths between min_length and max_length\n",
    "string_pattern = r'\\b\\w{%d,%d}\\b' % (min_length, max_length)\n",
    "regex_pattern = re.compile(string_pattern)\n",
    "\n",
    "# Use findall to extract all matching words\n",
    "result = regex_pattern.findall(str1)\n",
    "\n",
    "print(result)\n"
   ]
  },
  {
   "cell_type": "code",
   "execution_count": 5,
   "id": "16aef1d0",
   "metadata": {},
   "outputs": [
    {
     "name": "stdout",
     "output_type": "stream",
     "text": [
      "['example ', 'hr@fliprobo ', 'github ', 'Hello ', 'Data ']\n"
     ]
    }
   ],
   "source": [
    "#ANS:) 5\n",
    "\n",
    "import re\n",
    "\n",
    "sample_text = [\"example (.com)\", \"hr@fliprobo (.com)\", \"github (.com)\", \"Hello (Data Science World)\", \"Data (Scientist)\"]\n",
    "\n",
    "#  regular expression pattern\n",
    "string_pattern = r'\\([^)]*\\)'\n",
    "regex_pattern = re.compile(string_pattern)\n",
    "\n",
    "# Use list comprehension to remove parentheses\n",
    "result = [regex_pattern.sub('', text) for text in sample_text]\n",
    "\n",
    "print(result)\n",
    "\n",
    "\n"
   ]
  },
  {
   "cell_type": "code",
   "execution_count": 6,
   "id": "662095df",
   "metadata": {},
   "outputs": [
    {
     "name": "stdout",
     "output_type": "stream",
     "text": [
      "example .com\n",
      "hr@fliprobo .com\n",
      "github .com\n",
      "Hello Data Science World\n",
      "Data Scientist\n"
     ]
    }
   ],
   "source": [
    "#ANS:) 6\n",
    "\n",
    "# Sample text as a list of strings\n",
    "sample_text = [\"example (.com)\", \"hr@fliprobo (.com)\", \"github (.com)\", \"Hello (Data Science World)\", \"Data (Scientist)\"]\n",
    "\n",
    "# remove text enclosed in parentheses\n",
    "result = []\n",
    "for text in sample_text:\n",
    "    modified_text = text.replace('(', '').replace(')', '')\n",
    "    result.append(modified_text)\n",
    "\n",
    "# Print the modified text\n",
    "for text in result:\n",
    "    print(text)\n"
   ]
  },
  {
   "cell_type": "code",
   "execution_count": 7,
   "id": "a8c5def6",
   "metadata": {},
   "outputs": [
    {
     "name": "stdout",
     "output_type": "stream",
     "text": [
      "['Importance', 'Of', 'Regular', 'Expressions', 'In', 'Python']\n"
     ]
    }
   ],
   "source": [
    "#ANS:) 7 \n",
    "\n",
    "import re\n",
    "\n",
    "sample_text = \"ImportanceOfRegularExpressionsInPython\"\n",
    "expected_outcome = re.findall(r'[A-Z][a-z]*', sample_text)\n",
    "\n",
    "print(expected_outcome)\n",
    "\n"
   ]
  },
  {
   "cell_type": "code",
   "execution_count": 8,
   "id": "6cd4b44b",
   "metadata": {},
   "outputs": [
    {
     "name": "stdout",
     "output_type": "stream",
     "text": [
      "RegularExpression 1IsAn 2ImportantTopic 3InPython\n"
     ]
    }
   ],
   "source": [
    "#ANS:) 8\n",
    "\n",
    "import re\n",
    "\n",
    "def insert_spaces_between_numbers(text):\n",
    "    string_pattern = r'(?<=[a-zA-Z])(?=\\d)'\n",
    "    text = re.sub(string_pattern, ' ', text)\n",
    "    return text\n",
    "\n",
    "sample_text = \"RegularExpression1IsAn2ImportantTopic3InPython\"\n",
    "\n",
    "expected_output = insert_spaces_between_numbers(sample_text)\n",
    "\n",
    "# Print the result\n",
    "print(expected_output)\n"
   ]
  },
  {
   "cell_type": "code",
   "execution_count": 9,
   "id": "a09593e2",
   "metadata": {},
   "outputs": [
    {
     "name": "stdout",
     "output_type": "stream",
     "text": [
      "Regular Expression 1Is An 2Important Topic 3In Python\n"
     ]
    }
   ],
   "source": [
    "#ANS:) 9\n",
    "\n",
    "import re\n",
    "\n",
    "def insert_spaces(text):\n",
    "    # Match a word starting with an uppercase letter or a number\n",
    "    pattern = r'(?<=[a-z])(?=[A-Z0-9])'\n",
    "   \n",
    "    # Replace the matched pattern with a space\n",
    "    text_with_spaces = re.sub(pattern, ' ', text)\n",
    "    return text_with_spaces\n",
    "\n",
    "sample_text = \"RegularExpression1IsAn2ImportantTopic3InPython\"\n",
    "expected_output = insert_spaces(sample_text)\n",
    "\n",
    "print(expected_output)\n"
   ]
  },
  {
   "cell_type": "code",
   "execution_count": 10,
   "id": "5f42ad6c",
   "metadata": {},
   "outputs": [
    {
     "data": {
      "text/html": [
       "<div>\n",
       "<style scoped>\n",
       "    .dataframe tbody tr th:only-of-type {\n",
       "        vertical-align: middle;\n",
       "    }\n",
       "\n",
       "    .dataframe tbody tr th {\n",
       "        vertical-align: top;\n",
       "    }\n",
       "\n",
       "    .dataframe thead th {\n",
       "        text-align: right;\n",
       "    }\n",
       "</style>\n",
       "<table border=\"1\" class=\"dataframe\">\n",
       "  <thead>\n",
       "    <tr style=\"text-align: right;\">\n",
       "      <th></th>\n",
       "      <th>Country</th>\n",
       "      <th>Region</th>\n",
       "      <th>Happiness Rank</th>\n",
       "      <th>Happiness Score</th>\n",
       "      <th>Standard Error</th>\n",
       "      <th>Economy (GDP per Capita)</th>\n",
       "      <th>Family</th>\n",
       "      <th>Health (Life Expectancy)</th>\n",
       "      <th>Freedom</th>\n",
       "      <th>Trust (Government Corruption)</th>\n",
       "      <th>Generosity</th>\n",
       "      <th>Dystopia Residual</th>\n",
       "    </tr>\n",
       "  </thead>\n",
       "  <tbody>\n",
       "    <tr>\n",
       "      <th>0</th>\n",
       "      <td>Switzerland</td>\n",
       "      <td>Western Europe</td>\n",
       "      <td>1</td>\n",
       "      <td>7.587</td>\n",
       "      <td>0.03411</td>\n",
       "      <td>1.39651</td>\n",
       "      <td>1.34951</td>\n",
       "      <td>0.94143</td>\n",
       "      <td>0.66557</td>\n",
       "      <td>0.41978</td>\n",
       "      <td>0.29678</td>\n",
       "      <td>2.51738</td>\n",
       "    </tr>\n",
       "    <tr>\n",
       "      <th>1</th>\n",
       "      <td>Iceland</td>\n",
       "      <td>Western Europe</td>\n",
       "      <td>2</td>\n",
       "      <td>7.561</td>\n",
       "      <td>0.04884</td>\n",
       "      <td>1.30232</td>\n",
       "      <td>1.40223</td>\n",
       "      <td>0.94784</td>\n",
       "      <td>0.62877</td>\n",
       "      <td>0.14145</td>\n",
       "      <td>0.43630</td>\n",
       "      <td>2.70201</td>\n",
       "    </tr>\n",
       "    <tr>\n",
       "      <th>2</th>\n",
       "      <td>Denmark</td>\n",
       "      <td>Western Europe</td>\n",
       "      <td>3</td>\n",
       "      <td>7.527</td>\n",
       "      <td>0.03328</td>\n",
       "      <td>1.32548</td>\n",
       "      <td>1.36058</td>\n",
       "      <td>0.87464</td>\n",
       "      <td>0.64938</td>\n",
       "      <td>0.48357</td>\n",
       "      <td>0.34139</td>\n",
       "      <td>2.49204</td>\n",
       "    </tr>\n",
       "    <tr>\n",
       "      <th>3</th>\n",
       "      <td>Norway</td>\n",
       "      <td>Western Europe</td>\n",
       "      <td>4</td>\n",
       "      <td>7.522</td>\n",
       "      <td>0.03880</td>\n",
       "      <td>1.45900</td>\n",
       "      <td>1.33095</td>\n",
       "      <td>0.88521</td>\n",
       "      <td>0.66973</td>\n",
       "      <td>0.36503</td>\n",
       "      <td>0.34699</td>\n",
       "      <td>2.46531</td>\n",
       "    </tr>\n",
       "    <tr>\n",
       "      <th>4</th>\n",
       "      <td>Canada</td>\n",
       "      <td>North America</td>\n",
       "      <td>5</td>\n",
       "      <td>7.427</td>\n",
       "      <td>0.03553</td>\n",
       "      <td>1.32629</td>\n",
       "      <td>1.32261</td>\n",
       "      <td>0.90563</td>\n",
       "      <td>0.63297</td>\n",
       "      <td>0.32957</td>\n",
       "      <td>0.45811</td>\n",
       "      <td>2.45176</td>\n",
       "    </tr>\n",
       "    <tr>\n",
       "      <th>...</th>\n",
       "      <td>...</td>\n",
       "      <td>...</td>\n",
       "      <td>...</td>\n",
       "      <td>...</td>\n",
       "      <td>...</td>\n",
       "      <td>...</td>\n",
       "      <td>...</td>\n",
       "      <td>...</td>\n",
       "      <td>...</td>\n",
       "      <td>...</td>\n",
       "      <td>...</td>\n",
       "      <td>...</td>\n",
       "    </tr>\n",
       "    <tr>\n",
       "      <th>153</th>\n",
       "      <td>Rwanda</td>\n",
       "      <td>Sub-Saharan Africa</td>\n",
       "      <td>154</td>\n",
       "      <td>3.465</td>\n",
       "      <td>0.03464</td>\n",
       "      <td>0.22208</td>\n",
       "      <td>0.77370</td>\n",
       "      <td>0.42864</td>\n",
       "      <td>0.59201</td>\n",
       "      <td>0.55191</td>\n",
       "      <td>0.22628</td>\n",
       "      <td>0.67042</td>\n",
       "    </tr>\n",
       "    <tr>\n",
       "      <th>154</th>\n",
       "      <td>Benin</td>\n",
       "      <td>Sub-Saharan Africa</td>\n",
       "      <td>155</td>\n",
       "      <td>3.340</td>\n",
       "      <td>0.03656</td>\n",
       "      <td>0.28665</td>\n",
       "      <td>0.35386</td>\n",
       "      <td>0.31910</td>\n",
       "      <td>0.48450</td>\n",
       "      <td>0.08010</td>\n",
       "      <td>0.18260</td>\n",
       "      <td>1.63328</td>\n",
       "    </tr>\n",
       "    <tr>\n",
       "      <th>155</th>\n",
       "      <td>Syria</td>\n",
       "      <td>Middle East and Northern Africa</td>\n",
       "      <td>156</td>\n",
       "      <td>3.006</td>\n",
       "      <td>0.05015</td>\n",
       "      <td>0.66320</td>\n",
       "      <td>0.47489</td>\n",
       "      <td>0.72193</td>\n",
       "      <td>0.15684</td>\n",
       "      <td>0.18906</td>\n",
       "      <td>0.47179</td>\n",
       "      <td>0.32858</td>\n",
       "    </tr>\n",
       "    <tr>\n",
       "      <th>156</th>\n",
       "      <td>Burundi</td>\n",
       "      <td>Sub-Saharan Africa</td>\n",
       "      <td>157</td>\n",
       "      <td>2.905</td>\n",
       "      <td>0.08658</td>\n",
       "      <td>0.01530</td>\n",
       "      <td>0.41587</td>\n",
       "      <td>0.22396</td>\n",
       "      <td>0.11850</td>\n",
       "      <td>0.10062</td>\n",
       "      <td>0.19727</td>\n",
       "      <td>1.83302</td>\n",
       "    </tr>\n",
       "    <tr>\n",
       "      <th>157</th>\n",
       "      <td>Togo</td>\n",
       "      <td>Sub-Saharan Africa</td>\n",
       "      <td>158</td>\n",
       "      <td>2.839</td>\n",
       "      <td>0.06727</td>\n",
       "      <td>0.20868</td>\n",
       "      <td>0.13995</td>\n",
       "      <td>0.28443</td>\n",
       "      <td>0.36453</td>\n",
       "      <td>0.10731</td>\n",
       "      <td>0.16681</td>\n",
       "      <td>1.56726</td>\n",
       "    </tr>\n",
       "  </tbody>\n",
       "</table>\n",
       "<p>158 rows × 12 columns</p>\n",
       "</div>"
      ],
      "text/plain": [
       "         Country                           Region  Happiness Rank  \\\n",
       "0    Switzerland                   Western Europe               1   \n",
       "1        Iceland                   Western Europe               2   \n",
       "2        Denmark                   Western Europe               3   \n",
       "3         Norway                   Western Europe               4   \n",
       "4         Canada                    North America               5   \n",
       "..           ...                              ...             ...   \n",
       "153       Rwanda               Sub-Saharan Africa             154   \n",
       "154        Benin               Sub-Saharan Africa             155   \n",
       "155        Syria  Middle East and Northern Africa             156   \n",
       "156      Burundi               Sub-Saharan Africa             157   \n",
       "157         Togo               Sub-Saharan Africa             158   \n",
       "\n",
       "     Happiness Score  Standard Error  Economy (GDP per Capita)   Family  \\\n",
       "0              7.587         0.03411                   1.39651  1.34951   \n",
       "1              7.561         0.04884                   1.30232  1.40223   \n",
       "2              7.527         0.03328                   1.32548  1.36058   \n",
       "3              7.522         0.03880                   1.45900  1.33095   \n",
       "4              7.427         0.03553                   1.32629  1.32261   \n",
       "..               ...             ...                       ...      ...   \n",
       "153            3.465         0.03464                   0.22208  0.77370   \n",
       "154            3.340         0.03656                   0.28665  0.35386   \n",
       "155            3.006         0.05015                   0.66320  0.47489   \n",
       "156            2.905         0.08658                   0.01530  0.41587   \n",
       "157            2.839         0.06727                   0.20868  0.13995   \n",
       "\n",
       "     Health (Life Expectancy)  Freedom  Trust (Government Corruption)  \\\n",
       "0                     0.94143  0.66557                        0.41978   \n",
       "1                     0.94784  0.62877                        0.14145   \n",
       "2                     0.87464  0.64938                        0.48357   \n",
       "3                     0.88521  0.66973                        0.36503   \n",
       "4                     0.90563  0.63297                        0.32957   \n",
       "..                        ...      ...                            ...   \n",
       "153                   0.42864  0.59201                        0.55191   \n",
       "154                   0.31910  0.48450                        0.08010   \n",
       "155                   0.72193  0.15684                        0.18906   \n",
       "156                   0.22396  0.11850                        0.10062   \n",
       "157                   0.28443  0.36453                        0.10731   \n",
       "\n",
       "     Generosity  Dystopia Residual  \n",
       "0       0.29678            2.51738  \n",
       "1       0.43630            2.70201  \n",
       "2       0.34139            2.49204  \n",
       "3       0.34699            2.46531  \n",
       "4       0.45811            2.45176  \n",
       "..          ...                ...  \n",
       "153     0.22628            0.67042  \n",
       "154     0.18260            1.63328  \n",
       "155     0.47179            0.32858  \n",
       "156     0.19727            1.83302  \n",
       "157     0.16681            1.56726  \n",
       "\n",
       "[158 rows x 12 columns]"
      ]
     },
     "execution_count": 10,
     "metadata": {},
     "output_type": "execute_result"
    }
   ],
   "source": [
    "#ANS:)10\n",
    "\n",
    "import pandas as pd\n",
    "\n",
    "# Read the data into a DataFrame\n",
    "df = pd.read_csv(\"https://raw.githubusercontent.com/dsrscientist/DSData/master/happiness_score_dataset.csv\")\n",
    "df\n",
    "\n",
    "\n"
   ]
  },
  {
   "cell_type": "code",
   "execution_count": 11,
   "id": "1d57f14c",
   "metadata": {},
   "outputs": [
    {
     "name": "stdout",
     "output_type": "stream",
     "text": [
      "0      Switze\n",
      "1      Icelan\n",
      "2      Denmar\n",
      "3      Norway\n",
      "4      Canada\n",
      "        ...  \n",
      "153    Rwanda\n",
      "154     Benin\n",
      "155     Syria\n",
      "156    Burund\n",
      "157      Togo\n",
      "Name: first_five_letters, Length: 158, dtype: object\n"
     ]
    }
   ],
   "source": [
    "#extract the first 6 letters of each country and store in the dataframe\n",
    "df['first_five_letters'] = df['Country'].str[:6]\n",
    "print(df.first_five_letters)"
   ]
  },
  {
   "cell_type": "code",
   "execution_count": 12,
   "id": "d10db981",
   "metadata": {},
   "outputs": [
    {
     "name": "stdout",
     "output_type": "stream",
     "text": [
      "None\n"
     ]
    }
   ],
   "source": [
    "#ANS:) 11\n",
    "\n",
    "target_string =\"virat is a criket player who was born on 5 november, 1988\"\n",
    "\n",
    "#match a string that contains only upper and lowercase letters, numbers, and underscores\n",
    "\n",
    "pattern = r'^[a-zA-Z0-9_]+$'\n",
    "result =re.match(pattern,target_string)\n",
    "\n",
    "print(result)\n"
   ]
  },
  {
   "cell_type": "code",
   "execution_count": 13,
   "id": "e8cdda38",
   "metadata": {},
   "outputs": [
    {
     "name": "stdout",
     "output_type": "stream",
     "text": [
      "<re.Match object; span=(0, 11), match='123456Megha'>\n"
     ]
    }
   ],
   "source": [
    "#ANS:) 12\n",
    "\n",
    "target_string =\"123456Megha\"\n",
    "\n",
    "#string will start with a specific number.\n",
    "\n",
    "pattern = r'^[a-zA-Z0-9_]+$'\n",
    "result =re.match(pattern,target_string)\n",
    "\n",
    "print(result)\n"
   ]
  },
  {
   "cell_type": "code",
   "execution_count": 14,
   "id": "6ec155d9",
   "metadata": {},
   "outputs": [
    {
     "name": "stdout",
     "output_type": "stream",
     "text": [
      "192.168.1.5\n"
     ]
    }
   ],
   "source": [
    "#ANS:) 13_Example\n",
    "\n",
    "import re\n",
    "\n",
    "ip_address = \"192.168.001.005\"\n",
    "\n",
    "# Python program to remove leading zeros from an IP address\n",
    "result = re.sub(r'\\b0+(\\d+)\\b', r'\\1', ip_address)\n",
    "\n",
    "print(result)\n"
   ]
  },
  {
   "cell_type": "code",
   "execution_count": 38,
   "id": "7cc063fd",
   "metadata": {},
   "outputs": [],
   "source": [
    "#ANS:) 14 \n",
    "\n"
   ]
  },
  {
   "cell_type": "markdown",
   "id": "56db16d7",
   "metadata": {},
   "source": []
  },
  {
   "cell_type": "code",
   "execution_count": 16,
   "id": "b631b5a8",
   "metadata": {},
   "outputs": [
    {
     "name": "stdout",
     "output_type": "stream",
     "text": [
      "['fox', 'dog']\n"
     ]
    }
   ],
   "source": [
    "#ANS:)15\n",
    "import re\n",
    "\n",
    "sample_text=\"The quick brown fox jumps over the lazy dog.\"\n",
    "\n",
    "search = re.findall(\"fox|dog|horse\", sample_text)\n",
    "print(search)"
   ]
  },
  {
   "cell_type": "code",
   "execution_count": 17,
   "id": "17393168",
   "metadata": {},
   "outputs": [
    {
     "name": "stdout",
     "output_type": "stream",
     "text": [
      "<re.Match object; span=(16, 19), match='fox'>\n"
     ]
    }
   ],
   "source": [
    "#ANS:) 16\n",
    "\n",
    "import re\n",
    "\n",
    "sample_text=\"The quick brown fox jumps over the lazy dog.\"\n",
    "\n",
    "search = re.search('fox', sample_text)\n",
    "print(search)"
   ]
  },
  {
   "cell_type": "code",
   "execution_count": 18,
   "id": "262c5c3a",
   "metadata": {},
   "outputs": [
    {
     "name": "stdout",
     "output_type": "stream",
     "text": [
      "Python \n",
      ", PHP \n",
      ", C# \n"
     ]
    }
   ],
   "source": [
    "#ANS:) 17\n",
    "\n",
    "sample_text = 'Python exercises, PHP exercises, C# exercises'\n",
    "pattern = 'exercises'\n",
    "\n",
    "substrings = sample_text.split(pattern)\n",
    "\n",
    "\n",
    "for substring in substrings:\n",
    "    if substring:\n",
    "        print(substring)  \n"
   ]
  },
  {
   "cell_type": "code",
   "execution_count": 45,
   "id": "12cbb3a4",
   "metadata": {},
   "outputs": [
    {
     "name": "stdout",
     "output_type": "stream",
     "text": [
      "Substring 'example' found at position 11\n",
      "Substring 'example' found at position 29\n",
      "Substring 'example' found at position 49\n"
     ]
    }
   ],
   "source": [
    "#ANS:) 18\n",
    "\n",
    "import re\n",
    "\n",
    "sample_text = \"This is an example, and this example is a simple example.\"\n",
    "substring = \"example\"\n",
    "\n",
    "pattern = re.compile(re.escape(substring))  # Escaping special characters in the substring\n",
    "\n",
    "for match in pattern.finditer(sample_text):\n",
    "    start = match.start()\n",
    "    print(f\"Substring '{substring}' found at position {start}\")\n",
    "\n"
   ]
  },
  {
   "cell_type": "code",
   "execution_count": 20,
   "id": "2fad322f",
   "metadata": {},
   "outputs": [
    {
     "name": "stdout",
     "output_type": "stream",
     "text": [
      "Original date (yyyy-mm-dd): {yyyy_mm_dd}\n",
      "Converted date (dd-mm-yyyy): {dd_mm_yyyy}\n"
     ]
    }
   ],
   "source": [
    "#ANS:)19\n",
    "\n",
    "#example\n",
    "\n",
    "yyyy_mm_dd = \"1994-09-06\"\n",
    "\n",
    "# Split the date into year, month, and day\n",
    "year, month, day = yyyy_mm_dd.split('-')\n",
    "\n",
    "# Create the new date in dd-mm-yyyy format\n",
    "dd_mm_yyyy = \"{day}-{month}-{year}\"\n",
    "\n",
    "# Print the converted date\n",
    "print(\"Original date (yyyy-mm-dd): {yyyy_mm_dd}\")\n",
    "print(\"Converted date (dd-mm-yyyy): {dd_mm_yyyy}\")\n"
   ]
  },
  {
   "cell_type": "code",
   "execution_count": 21,
   "id": "c2a64469",
   "metadata": {},
   "outputs": [
    {
     "name": "stdout",
     "output_type": "stream",
     "text": [
      "['01.12', '145.8', '3.01', '27.25', '0.25']\n"
     ]
    }
   ],
   "source": [
    "#ANS:) 20\n",
    "\n",
    "\n",
    "import re\n",
    "\n",
    "sample_text = \"01.12 0132.123 2.31875 145.8 3.01 27.25 0.25\"\n",
    "regex_pattern = re.compile(r'\\b\\d+\\.\\d{1,2}\\b')\n",
    "\n",
    "#find decimal number with precision\n",
    "matches = re.findall(regex_pattern, sample_text)\n",
    "print(matches)\n"
   ]
  },
  {
   "cell_type": "code",
   "execution_count": 22,
   "id": "7d700785",
   "metadata": {},
   "outputs": [
    {
     "name": "stdout",
     "output_type": "stream",
     "text": [
      "Number: 987, Position: 40\n",
      "Number: 45.6, Position: 48\n",
      "Number: 7890, Position: 58\n"
     ]
    }
   ],
   "source": [
    "#ANS:) 21\n",
    "\n",
    "import re\n",
    "\n",
    "sample_text = \"This is a sample text with numbers like 987 and 45.6, and 7890\"\n",
    "\n",
    "pattern = r'\\b\\d+(\\.\\d+)?\\b'\n",
    "matches = re.finditer(pattern, sample_text)\n",
    "\n",
    "for match in matches:\n",
    "    number = match.group()\n",
    "    position = match.start()\n",
    "    print(f\"Number: {number}, Position: {position}\")\n"
   ]
  },
  {
   "cell_type": "code",
   "execution_count": 23,
   "id": "bab0a721",
   "metadata": {},
   "outputs": [
    {
     "name": "stdout",
     "output_type": "stream",
     "text": [
      "The maximum numeric value is: 950\n"
     ]
    }
   ],
   "source": [
    "# ANS:) 22\n",
    "\n",
    "import re\n",
    "\n",
    "sample_text = 'My marks in each semester are: 947, 896, 926, 524, 734, 950, 642'\n",
    "pattern = r'\\b\\d+\\b'\n",
    "\n",
    "\n",
    "# Use re.findall to find all numeric values in the text\n",
    "numeric_values = re.findall(pattern, sample_text)\n",
    "\n",
    "\n",
    "max_numeric_value = max(numeric_values)\n",
    "print(f\"The maximum numeric value is: {max_numeric_value}\")\n",
    "\n"
   ]
  },
  {
   "cell_type": "code",
   "execution_count": 24,
   "id": "8a72555e",
   "metadata": {},
   "outputs": [
    {
     "name": "stdout",
     "output_type": "stream",
     "text": [
      "Regular Expression Is An Important Topic In Python\n"
     ]
    }
   ],
   "source": [
    "#ANS:) 23\n",
    "\n",
    "import re\n",
    "\n",
    "sample_text = \"RegularExpressionIsAnImportantTopicInPython\"\n",
    "\n",
    "#insert spaces between words starting with capital letters\n",
    "spaced_text = re.sub(r'([a-z])([A-Z])', r'\\1 \\2', sample_text)\n",
    "\n",
    "print(spaced_text)\n"
   ]
  },
  {
   "cell_type": "code",
   "execution_count": 25,
   "id": "6b8671d8",
   "metadata": {},
   "outputs": [
    {
     "name": "stdout",
     "output_type": "stream",
     "text": [
      "['Data', 'Is']\n"
     ]
    }
   ],
   "source": [
    "#ANS:) 24\n",
    "\n",
    "import re\n",
    "\n",
    "text = \"Data scientists collect and gather data from various sources, including databases, APIs, sensors, web scraping, and more.\"\n",
    "\n",
    "pattern = r'[A-Z][a-z]+'\n",
    "\n",
    "matches = re.findall(pattern, text)\n",
    "\n",
    "print(matches)\n"
   ]
  },
  {
   "cell_type": "code",
   "execution_count": 26,
   "id": "244fe7ab",
   "metadata": {},
   "outputs": [
    {
     "name": "stdout",
     "output_type": "stream",
     "text": [
      "Hello hello world\n"
     ]
    }
   ],
   "source": [
    "#ANS:) 25 \n",
    "\n",
    "\n",
    "import regex as re\n",
    "\n",
    "sample_text = \"Hello hello world world\"\n",
    "regex_pattern = r'\\b(\\w+)\\s+\\1\\b'\n",
    "\n",
    "expected_output = re.sub(regex_pattern, r'\\1', sample_text)\n",
    "print(expected_output)\n"
   ]
  },
  {
   "cell_type": "code",
   "execution_count": 27,
   "id": "b656f072",
   "metadata": {},
   "outputs": [
    {
     "name": "stdout",
     "output_type": "stream",
     "text": [
      "'Hello123' ends with an alphanumeric character.\n"
     ]
    }
   ],
   "source": [
    "#ANS:) 26 \n",
    "\n",
    "sample_text = \"Hello123\"\n",
    "if (sample_text):\n",
    "    print(f\"'{sample_text}' ends with an alphanumeric character.\")\n",
    "else:\n",
    "    print(f\"'{sample_text}' does not end with an alphanumeric character.\")\n"
   ]
  },
  {
   "cell_type": "code",
   "execution_count": 28,
   "id": "2603b9d7",
   "metadata": {},
   "outputs": [
    {
     "name": "stdout",
     "output_type": "stream",
     "text": [
      "['#Doltiwal', '#xyzabc', '#Demonetization']\n"
     ]
    }
   ],
   "source": [
    "#ANS:) 27\n",
    "\n",
    "import re\n",
    "\n",
    "sample_text = \"\"\"RT @kapil_kausik: #Doltiwal I mean #xyzabc is \"hurt\" by #Demonetization as the same has rendered USELESS <ed><U+00A0><U+00BD><ed><U+00B1><U+0089> \"acquired funds\" No wo\"\"\"\n",
    "pattern = r'#\\w+'  #regular expression pattern to match hashtags\n",
    "\n",
    "hashtags = re.findall(pattern, sample_text)\n",
    "\n",
    "print(hashtags)\n"
   ]
  },
  {
   "cell_type": "code",
   "execution_count": 29,
   "id": "e2235ed9",
   "metadata": {},
   "outputs": [
    {
     "name": "stdout",
     "output_type": "stream",
     "text": [
      "@Jags123456 Bharat band on 28??<ed><ed>Those who  are protesting #demonetization  are all different party leaders\n"
     ]
    }
   ],
   "source": [
    "#ANS:) 28\n",
    "\n",
    "import re\n",
    "\n",
    "sample_text = \"@Jags123456 Bharat band on 28??<ed><U+00A0><U+00BD><ed><U+00B8><U+0082>Those who  are protesting #demonetization  are all different party leaders\"\n",
    "pattern = r'<U\\+[\\w]+>'          # regular expression pattern to match <U+...> like symbols\n",
    "\n",
    "expected_output = re.sub(pattern, '', sample_text)\n",
    "\n",
    "print(expected_output)\n",
    "\n",
    "    "
   ]
  },
  {
   "cell_type": "code",
   "execution_count": 63,
   "id": "90f8a0c9",
   "metadata": {},
   "outputs": [],
   "source": [
    "#ANS:29\n",
    "Sample_text = \"Ron was born on 12-09-1992 and he was admitted to school 15-12-1999.\"\n",
    "file_name =\"sample_text.txt\"\n",
    "\n",
    "\n",
    "# Define a regular expression pattern to match dates in the format DD-MM-YYYY\n",
    "date_pattern = r'\\d{2}-\\d{2}-\\d{4}'\n",
    "\n",
    "# Find all matches of the date pattern in the text\n",
    "dates = re.findall(date_pattern, text)\n",
    "\n"
   ]
  },
  {
   "cell_type": "code",
   "execution_count": 59,
   "id": "6bab7cb1",
   "metadata": {},
   "outputs": [
    {
     "name": "stdout",
     "output_type": "stream",
     "text": [
      "   example,   example  a simple example.\n"
     ]
    }
   ],
   "source": [
    "#ANS:) 30\n",
    "\n",
    "import re\n",
    "\n",
    "\n",
    "sample_text = \"The following example creates an ArrayList with a capacity of 50 elements. 4 elements are then added to the ArrayList and the ArrayList is trimmed accordingly.\"\n",
    "pattern = r'\\b\\w{2,4}\\b'\n",
    "cleaned_text = re.sub(pattern, '', text)\n",
    "    \n",
    "\n",
    "# Print the cleaned text\n",
    "print(cleaned_text)\n"
   ]
  },
  {
   "cell_type": "code",
   "execution_count": null,
   "id": "2d373606",
   "metadata": {},
   "outputs": [],
   "source": []
  }
 ],
 "metadata": {
  "kernelspec": {
   "display_name": "Python 3 (ipykernel)",
   "language": "python",
   "name": "python3"
  },
  "language_info": {
   "codemirror_mode": {
    "name": "ipython",
    "version": 3
   },
   "file_extension": ".py",
   "mimetype": "text/x-python",
   "name": "python",
   "nbconvert_exporter": "python",
   "pygments_lexer": "ipython3",
   "version": "3.10.9"
  }
 },
 "nbformat": 4,
 "nbformat_minor": 5
}
